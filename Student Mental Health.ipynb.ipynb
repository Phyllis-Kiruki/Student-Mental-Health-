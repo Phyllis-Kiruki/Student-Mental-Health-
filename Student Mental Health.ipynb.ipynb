{
 "cells": [
  {
   "cell_type": "code",
   "execution_count": 85,
   "metadata": {},
   "outputs": [],
   "source": [
    "import numpy as np \n",
    "import pandas as pd \n",
    "import matplotlib.pyplot as plt \n",
    "import seaborn as sns \n",
    "%matplotlib inline\n",
    "import warnings\n",
    "warnings.filterwarnings(\"ignore\", category=FutureWarning)"
   ]
  },
  {
   "cell_type": "code",
   "execution_count": 86,
   "metadata": {},
   "outputs": [],
   "source": [
    "data=pd.read_csv(\"MentalHealthSurvey.csv\")"
   ]
  },
  {
   "cell_type": "code",
   "execution_count": 87,
   "metadata": {},
   "outputs": [
    {
     "data": {
      "text/html": [
       "<div>\n",
       "<style scoped>\n",
       "    .dataframe tbody tr th:only-of-type {\n",
       "        vertical-align: middle;\n",
       "    }\n",
       "\n",
       "    .dataframe tbody tr th {\n",
       "        vertical-align: top;\n",
       "    }\n",
       "\n",
       "    .dataframe thead th {\n",
       "        text-align: right;\n",
       "    }\n",
       "</style>\n",
       "<table border=\"1\" class=\"dataframe\">\n",
       "  <thead>\n",
       "    <tr style=\"text-align: right;\">\n",
       "      <th></th>\n",
       "      <th>gender</th>\n",
       "      <th>age</th>\n",
       "      <th>university</th>\n",
       "      <th>degree_level</th>\n",
       "      <th>degree_major</th>\n",
       "      <th>academic_year</th>\n",
       "      <th>cgpa</th>\n",
       "      <th>residential_status</th>\n",
       "      <th>campus_discrimination</th>\n",
       "      <th>sports_engagement</th>\n",
       "      <th>...</th>\n",
       "      <th>study_satisfaction</th>\n",
       "      <th>academic_workload</th>\n",
       "      <th>academic_pressure</th>\n",
       "      <th>financial_concerns</th>\n",
       "      <th>social_relationships</th>\n",
       "      <th>depression</th>\n",
       "      <th>anxiety</th>\n",
       "      <th>isolation</th>\n",
       "      <th>future_insecurity</th>\n",
       "      <th>stress_relief_activities</th>\n",
       "    </tr>\n",
       "  </thead>\n",
       "  <tbody>\n",
       "    <tr>\n",
       "      <th>0</th>\n",
       "      <td>Male</td>\n",
       "      <td>20</td>\n",
       "      <td>PU</td>\n",
       "      <td>Undergraduate</td>\n",
       "      <td>Data Science</td>\n",
       "      <td>2nd year</td>\n",
       "      <td>3.0-3.5</td>\n",
       "      <td>Off-Campus</td>\n",
       "      <td>No</td>\n",
       "      <td>No Sports</td>\n",
       "      <td>...</td>\n",
       "      <td>5</td>\n",
       "      <td>4</td>\n",
       "      <td>5</td>\n",
       "      <td>4</td>\n",
       "      <td>3</td>\n",
       "      <td>2</td>\n",
       "      <td>1</td>\n",
       "      <td>1</td>\n",
       "      <td>2</td>\n",
       "      <td>Religious Activities, Social Connections, Onli...</td>\n",
       "    </tr>\n",
       "    <tr>\n",
       "      <th>1</th>\n",
       "      <td>Male</td>\n",
       "      <td>20</td>\n",
       "      <td>UET</td>\n",
       "      <td>Postgraduate</td>\n",
       "      <td>Computer Science</td>\n",
       "      <td>3rd year</td>\n",
       "      <td>3.0-3.5</td>\n",
       "      <td>Off-Campus</td>\n",
       "      <td>No</td>\n",
       "      <td>1-3 times</td>\n",
       "      <td>...</td>\n",
       "      <td>5</td>\n",
       "      <td>4</td>\n",
       "      <td>4</td>\n",
       "      <td>1</td>\n",
       "      <td>3</td>\n",
       "      <td>3</td>\n",
       "      <td>3</td>\n",
       "      <td>3</td>\n",
       "      <td>4</td>\n",
       "      <td>Online Entertainment</td>\n",
       "    </tr>\n",
       "    <tr>\n",
       "      <th>2</th>\n",
       "      <td>Male</td>\n",
       "      <td>20</td>\n",
       "      <td>FAST</td>\n",
       "      <td>Undergraduate</td>\n",
       "      <td>Computer Science</td>\n",
       "      <td>3rd year</td>\n",
       "      <td>2.5-3.0</td>\n",
       "      <td>Off-Campus</td>\n",
       "      <td>No</td>\n",
       "      <td>1-3 times</td>\n",
       "      <td>...</td>\n",
       "      <td>5</td>\n",
       "      <td>5</td>\n",
       "      <td>5</td>\n",
       "      <td>3</td>\n",
       "      <td>4</td>\n",
       "      <td>2</td>\n",
       "      <td>3</td>\n",
       "      <td>3</td>\n",
       "      <td>1</td>\n",
       "      <td>Religious Activities, Sports and Fitness, Onli...</td>\n",
       "    </tr>\n",
       "    <tr>\n",
       "      <th>3</th>\n",
       "      <td>Male</td>\n",
       "      <td>20</td>\n",
       "      <td>UET</td>\n",
       "      <td>Undergraduate</td>\n",
       "      <td>Computer Science</td>\n",
       "      <td>3rd year</td>\n",
       "      <td>2.5-3.0</td>\n",
       "      <td>On-Campus</td>\n",
       "      <td>No</td>\n",
       "      <td>No Sports</td>\n",
       "      <td>...</td>\n",
       "      <td>3</td>\n",
       "      <td>5</td>\n",
       "      <td>4</td>\n",
       "      <td>4</td>\n",
       "      <td>1</td>\n",
       "      <td>5</td>\n",
       "      <td>5</td>\n",
       "      <td>5</td>\n",
       "      <td>3</td>\n",
       "      <td>Online Entertainment</td>\n",
       "    </tr>\n",
       "    <tr>\n",
       "      <th>4</th>\n",
       "      <td>Female</td>\n",
       "      <td>20</td>\n",
       "      <td>UET</td>\n",
       "      <td>Undergraduate</td>\n",
       "      <td>Computer Science</td>\n",
       "      <td>3rd year</td>\n",
       "      <td>3.0-3.5</td>\n",
       "      <td>Off-Campus</td>\n",
       "      <td>Yes</td>\n",
       "      <td>No Sports</td>\n",
       "      <td>...</td>\n",
       "      <td>3</td>\n",
       "      <td>5</td>\n",
       "      <td>5</td>\n",
       "      <td>2</td>\n",
       "      <td>3</td>\n",
       "      <td>5</td>\n",
       "      <td>5</td>\n",
       "      <td>4</td>\n",
       "      <td>4</td>\n",
       "      <td>Online Entertainment</td>\n",
       "    </tr>\n",
       "    <tr>\n",
       "      <th>...</th>\n",
       "      <td>...</td>\n",
       "      <td>...</td>\n",
       "      <td>...</td>\n",
       "      <td>...</td>\n",
       "      <td>...</td>\n",
       "      <td>...</td>\n",
       "      <td>...</td>\n",
       "      <td>...</td>\n",
       "      <td>...</td>\n",
       "      <td>...</td>\n",
       "      <td>...</td>\n",
       "      <td>...</td>\n",
       "      <td>...</td>\n",
       "      <td>...</td>\n",
       "      <td>...</td>\n",
       "      <td>...</td>\n",
       "      <td>...</td>\n",
       "      <td>...</td>\n",
       "      <td>...</td>\n",
       "      <td>...</td>\n",
       "      <td>...</td>\n",
       "    </tr>\n",
       "    <tr>\n",
       "      <th>82</th>\n",
       "      <td>Male</td>\n",
       "      <td>22</td>\n",
       "      <td>PU</td>\n",
       "      <td>Undergraduate</td>\n",
       "      <td>Information Technology</td>\n",
       "      <td>4th year</td>\n",
       "      <td>3.0-3.5</td>\n",
       "      <td>On-Campus</td>\n",
       "      <td>No</td>\n",
       "      <td>No Sports</td>\n",
       "      <td>...</td>\n",
       "      <td>4</td>\n",
       "      <td>3</td>\n",
       "      <td>1</td>\n",
       "      <td>4</td>\n",
       "      <td>4</td>\n",
       "      <td>2</td>\n",
       "      <td>3</td>\n",
       "      <td>1</td>\n",
       "      <td>2</td>\n",
       "      <td>Online Entertainment, Outdoor Activities, Sleep</td>\n",
       "    </tr>\n",
       "    <tr>\n",
       "      <th>83</th>\n",
       "      <td>Female</td>\n",
       "      <td>22</td>\n",
       "      <td>COMSATS</td>\n",
       "      <td>Undergraduate</td>\n",
       "      <td>Software Engineering</td>\n",
       "      <td>4th year</td>\n",
       "      <td>3.5-4.0</td>\n",
       "      <td>Off-Campus</td>\n",
       "      <td>Yes</td>\n",
       "      <td>No Sports</td>\n",
       "      <td>...</td>\n",
       "      <td>5</td>\n",
       "      <td>5</td>\n",
       "      <td>5</td>\n",
       "      <td>5</td>\n",
       "      <td>1</td>\n",
       "      <td>5</td>\n",
       "      <td>5</td>\n",
       "      <td>5</td>\n",
       "      <td>5</td>\n",
       "      <td>Religious Activities, Sleep</td>\n",
       "    </tr>\n",
       "    <tr>\n",
       "      <th>84</th>\n",
       "      <td>Male</td>\n",
       "      <td>21</td>\n",
       "      <td>PU</td>\n",
       "      <td>Undergraduate</td>\n",
       "      <td>Data Science</td>\n",
       "      <td>2nd year</td>\n",
       "      <td>2.0-2.5</td>\n",
       "      <td>Off-Campus</td>\n",
       "      <td>No</td>\n",
       "      <td>No Sports</td>\n",
       "      <td>...</td>\n",
       "      <td>5</td>\n",
       "      <td>4</td>\n",
       "      <td>2</td>\n",
       "      <td>4</td>\n",
       "      <td>3</td>\n",
       "      <td>1</td>\n",
       "      <td>2</td>\n",
       "      <td>1</td>\n",
       "      <td>1</td>\n",
       "      <td>Religious Activities, Sports and Fitness, Soci...</td>\n",
       "    </tr>\n",
       "    <tr>\n",
       "      <th>85</th>\n",
       "      <td>Male</td>\n",
       "      <td>22</td>\n",
       "      <td>PU</td>\n",
       "      <td>Undergraduate</td>\n",
       "      <td>Data Science</td>\n",
       "      <td>2nd year</td>\n",
       "      <td>2.5-3.0</td>\n",
       "      <td>Off-Campus</td>\n",
       "      <td>No</td>\n",
       "      <td>No Sports</td>\n",
       "      <td>...</td>\n",
       "      <td>3</td>\n",
       "      <td>3</td>\n",
       "      <td>3</td>\n",
       "      <td>3</td>\n",
       "      <td>2</td>\n",
       "      <td>3</td>\n",
       "      <td>4</td>\n",
       "      <td>4</td>\n",
       "      <td>5</td>\n",
       "      <td>Sleep</td>\n",
       "    </tr>\n",
       "    <tr>\n",
       "      <th>86</th>\n",
       "      <td>Female</td>\n",
       "      <td>19</td>\n",
       "      <td>PU</td>\n",
       "      <td>Undergraduate</td>\n",
       "      <td>Data Science</td>\n",
       "      <td>2nd year</td>\n",
       "      <td>3.5-4.0</td>\n",
       "      <td>On-Campus</td>\n",
       "      <td>No</td>\n",
       "      <td>4-6 times</td>\n",
       "      <td>...</td>\n",
       "      <td>4</td>\n",
       "      <td>4</td>\n",
       "      <td>4</td>\n",
       "      <td>3</td>\n",
       "      <td>4</td>\n",
       "      <td>2</td>\n",
       "      <td>2</td>\n",
       "      <td>1</td>\n",
       "      <td>3</td>\n",
       "      <td>Sports and Fitness</td>\n",
       "    </tr>\n",
       "  </tbody>\n",
       "</table>\n",
       "<p>87 rows × 21 columns</p>\n",
       "</div>"
      ],
      "text/plain": [
       "    gender  age university   degree_level            degree_major  \\\n",
       "0     Male   20         PU  Undergraduate            Data Science   \n",
       "1     Male   20        UET   Postgraduate        Computer Science   \n",
       "2     Male   20       FAST  Undergraduate        Computer Science   \n",
       "3     Male   20        UET  Undergraduate        Computer Science   \n",
       "4   Female   20        UET  Undergraduate        Computer Science   \n",
       "..     ...  ...        ...            ...                     ...   \n",
       "82    Male   22         PU  Undergraduate  Information Technology   \n",
       "83  Female   22    COMSATS  Undergraduate    Software Engineering   \n",
       "84    Male   21         PU  Undergraduate            Data Science   \n",
       "85    Male   22         PU  Undergraduate            Data Science   \n",
       "86  Female   19         PU  Undergraduate            Data Science   \n",
       "\n",
       "   academic_year     cgpa residential_status campus_discrimination  \\\n",
       "0       2nd year  3.0-3.5         Off-Campus                    No   \n",
       "1       3rd year  3.0-3.5         Off-Campus                    No   \n",
       "2       3rd year  2.5-3.0         Off-Campus                    No   \n",
       "3       3rd year  2.5-3.0          On-Campus                    No   \n",
       "4       3rd year  3.0-3.5         Off-Campus                   Yes   \n",
       "..           ...      ...                ...                   ...   \n",
       "82      4th year  3.0-3.5          On-Campus                    No   \n",
       "83      4th year  3.5-4.0         Off-Campus                   Yes   \n",
       "84      2nd year  2.0-2.5         Off-Campus                    No   \n",
       "85      2nd year  2.5-3.0         Off-Campus                    No   \n",
       "86      2nd year  3.5-4.0          On-Campus                    No   \n",
       "\n",
       "   sports_engagement  ... study_satisfaction  academic_workload   \\\n",
       "0          No Sports  ...                  5                   4   \n",
       "1          1-3 times  ...                  5                   4   \n",
       "2          1-3 times  ...                  5                   5   \n",
       "3          No Sports  ...                  3                   5   \n",
       "4          No Sports  ...                  3                   5   \n",
       "..               ...  ...                ...                 ...   \n",
       "82         No Sports  ...                  4                   3   \n",
       "83         No Sports  ...                  5                   5   \n",
       "84         No Sports  ...                  5                   4   \n",
       "85         No Sports  ...                  3                   3   \n",
       "86         4-6 times  ...                  4                   4   \n",
       "\n",
       "    academic_pressure  financial_concerns  social_relationships  depression  \\\n",
       "0                   5                   4                     3           2   \n",
       "1                   4                   1                     3           3   \n",
       "2                   5                   3                     4           2   \n",
       "3                   4                   4                     1           5   \n",
       "4                   5                   2                     3           5   \n",
       "..                ...                 ...                   ...         ...   \n",
       "82                  1                   4                     4           2   \n",
       "83                  5                   5                     1           5   \n",
       "84                  2                   4                     3           1   \n",
       "85                  3                   3                     2           3   \n",
       "86                  4                   3                     4           2   \n",
       "\n",
       "    anxiety  isolation  future_insecurity  \\\n",
       "0         1          1                  2   \n",
       "1         3          3                  4   \n",
       "2         3          3                  1   \n",
       "3         5          5                  3   \n",
       "4         5          4                  4   \n",
       "..      ...        ...                ...   \n",
       "82        3          1                  2   \n",
       "83        5          5                  5   \n",
       "84        2          1                  1   \n",
       "85        4          4                  5   \n",
       "86        2          1                  3   \n",
       "\n",
       "                             stress_relief_activities  \n",
       "0   Religious Activities, Social Connections, Onli...  \n",
       "1                                Online Entertainment  \n",
       "2   Religious Activities, Sports and Fitness, Onli...  \n",
       "3                                Online Entertainment  \n",
       "4                                Online Entertainment  \n",
       "..                                                ...  \n",
       "82    Online Entertainment, Outdoor Activities, Sleep  \n",
       "83                        Religious Activities, Sleep  \n",
       "84  Religious Activities, Sports and Fitness, Soci...  \n",
       "85                                              Sleep  \n",
       "86                                 Sports and Fitness  \n",
       "\n",
       "[87 rows x 21 columns]"
      ]
     },
     "execution_count": 87,
     "metadata": {},
     "output_type": "execute_result"
    }
   ],
   "source": [
    "data"
   ]
  },
  {
   "cell_type": "code",
   "execution_count": 88,
   "metadata": {},
   "outputs": [
    {
     "data": {
      "text/plain": [
       "(87, 21)"
      ]
     },
     "execution_count": 88,
     "metadata": {},
     "output_type": "execute_result"
    }
   ],
   "source": [
    "data.shape"
   ]
  },
  {
   "cell_type": "code",
   "execution_count": 89,
   "metadata": {},
   "outputs": [
    {
     "data": {
      "text/plain": [
       "Index(['gender', 'age', 'university', 'degree_level', 'degree_major',\n",
       "       'academic_year', 'cgpa', 'residential_status', 'campus_discrimination',\n",
       "       'sports_engagement', 'average_sleep', 'study_satisfaction',\n",
       "       'academic_workload ', 'academic_pressure', 'financial_concerns',\n",
       "       'social_relationships', 'depression', 'anxiety', 'isolation',\n",
       "       'future_insecurity', 'stress_relief_activities'],\n",
       "      dtype='object')"
      ]
     },
     "execution_count": 89,
     "metadata": {},
     "output_type": "execute_result"
    }
   ],
   "source": [
    "data.columns"
   ]
  },
  {
   "cell_type": "code",
   "execution_count": 90,
   "metadata": {},
   "outputs": [
    {
     "data": {
      "text/plain": [
       "0"
      ]
     },
     "execution_count": 90,
     "metadata": {},
     "output_type": "execute_result"
    }
   ],
   "source": [
    "data.duplicated().sum()"
   ]
  },
  {
   "cell_type": "code",
   "execution_count": 91,
   "metadata": {},
   "outputs": [
    {
     "data": {
      "text/plain": [
       "<bound method DataFrame.info of     gender  age university   degree_level            degree_major  \\\n",
       "0     Male   20         PU  Undergraduate            Data Science   \n",
       "1     Male   20        UET   Postgraduate        Computer Science   \n",
       "2     Male   20       FAST  Undergraduate        Computer Science   \n",
       "3     Male   20        UET  Undergraduate        Computer Science   \n",
       "4   Female   20        UET  Undergraduate        Computer Science   \n",
       "..     ...  ...        ...            ...                     ...   \n",
       "82    Male   22         PU  Undergraduate  Information Technology   \n",
       "83  Female   22    COMSATS  Undergraduate    Software Engineering   \n",
       "84    Male   21         PU  Undergraduate            Data Science   \n",
       "85    Male   22         PU  Undergraduate            Data Science   \n",
       "86  Female   19         PU  Undergraduate            Data Science   \n",
       "\n",
       "   academic_year     cgpa residential_status campus_discrimination  \\\n",
       "0       2nd year  3.0-3.5         Off-Campus                    No   \n",
       "1       3rd year  3.0-3.5         Off-Campus                    No   \n",
       "2       3rd year  2.5-3.0         Off-Campus                    No   \n",
       "3       3rd year  2.5-3.0          On-Campus                    No   \n",
       "4       3rd year  3.0-3.5         Off-Campus                   Yes   \n",
       "..           ...      ...                ...                   ...   \n",
       "82      4th year  3.0-3.5          On-Campus                    No   \n",
       "83      4th year  3.5-4.0         Off-Campus                   Yes   \n",
       "84      2nd year  2.0-2.5         Off-Campus                    No   \n",
       "85      2nd year  2.5-3.0         Off-Campus                    No   \n",
       "86      2nd year  3.5-4.0          On-Campus                    No   \n",
       "\n",
       "   sports_engagement  ... study_satisfaction  academic_workload   \\\n",
       "0          No Sports  ...                  5                   4   \n",
       "1          1-3 times  ...                  5                   4   \n",
       "2          1-3 times  ...                  5                   5   \n",
       "3          No Sports  ...                  3                   5   \n",
       "4          No Sports  ...                  3                   5   \n",
       "..               ...  ...                ...                 ...   \n",
       "82         No Sports  ...                  4                   3   \n",
       "83         No Sports  ...                  5                   5   \n",
       "84         No Sports  ...                  5                   4   \n",
       "85         No Sports  ...                  3                   3   \n",
       "86         4-6 times  ...                  4                   4   \n",
       "\n",
       "    academic_pressure  financial_concerns  social_relationships  depression  \\\n",
       "0                   5                   4                     3           2   \n",
       "1                   4                   1                     3           3   \n",
       "2                   5                   3                     4           2   \n",
       "3                   4                   4                     1           5   \n",
       "4                   5                   2                     3           5   \n",
       "..                ...                 ...                   ...         ...   \n",
       "82                  1                   4                     4           2   \n",
       "83                  5                   5                     1           5   \n",
       "84                  2                   4                     3           1   \n",
       "85                  3                   3                     2           3   \n",
       "86                  4                   3                     4           2   \n",
       "\n",
       "    anxiety  isolation  future_insecurity  \\\n",
       "0         1          1                  2   \n",
       "1         3          3                  4   \n",
       "2         3          3                  1   \n",
       "3         5          5                  3   \n",
       "4         5          4                  4   \n",
       "..      ...        ...                ...   \n",
       "82        3          1                  2   \n",
       "83        5          5                  5   \n",
       "84        2          1                  1   \n",
       "85        4          4                  5   \n",
       "86        2          1                  3   \n",
       "\n",
       "                             stress_relief_activities  \n",
       "0   Religious Activities, Social Connections, Onli...  \n",
       "1                                Online Entertainment  \n",
       "2   Religious Activities, Sports and Fitness, Onli...  \n",
       "3                                Online Entertainment  \n",
       "4                                Online Entertainment  \n",
       "..                                                ...  \n",
       "82    Online Entertainment, Outdoor Activities, Sleep  \n",
       "83                        Religious Activities, Sleep  \n",
       "84  Religious Activities, Sports and Fitness, Soci...  \n",
       "85                                              Sleep  \n",
       "86                                 Sports and Fitness  \n",
       "\n",
       "[87 rows x 21 columns]>"
      ]
     },
     "execution_count": 91,
     "metadata": {},
     "output_type": "execute_result"
    }
   ],
   "source": [
    "data.info"
   ]
  },
  {
   "cell_type": "code",
   "execution_count": 92,
   "metadata": {},
   "outputs": [
    {
     "data": {
      "text/plain": [
       "gender                      0\n",
       "age                         0\n",
       "university                  0\n",
       "degree_level                0\n",
       "degree_major                0\n",
       "academic_year               0\n",
       "cgpa                        0\n",
       "residential_status          0\n",
       "campus_discrimination       0\n",
       "sports_engagement           0\n",
       "average_sleep               0\n",
       "study_satisfaction          0\n",
       "academic_workload           0\n",
       "academic_pressure           0\n",
       "financial_concerns          0\n",
       "social_relationships        0\n",
       "depression                  0\n",
       "anxiety                     0\n",
       "isolation                   0\n",
       "future_insecurity           0\n",
       "stress_relief_activities    0\n",
       "dtype: int64"
      ]
     },
     "execution_count": 92,
     "metadata": {},
     "output_type": "execute_result"
    }
   ],
   "source": [
    "data.isna().sum()"
   ]
  },
  {
   "cell_type": "code",
   "execution_count": 93,
   "metadata": {},
   "outputs": [
    {
     "data": {
      "text/html": [
       "<div>\n",
       "<style scoped>\n",
       "    .dataframe tbody tr th:only-of-type {\n",
       "        vertical-align: middle;\n",
       "    }\n",
       "\n",
       "    .dataframe tbody tr th {\n",
       "        vertical-align: top;\n",
       "    }\n",
       "\n",
       "    .dataframe thead th {\n",
       "        text-align: right;\n",
       "    }\n",
       "</style>\n",
       "<table border=\"1\" class=\"dataframe\">\n",
       "  <thead>\n",
       "    <tr style=\"text-align: right;\">\n",
       "      <th></th>\n",
       "      <th>count</th>\n",
       "      <th>mean</th>\n",
       "      <th>std</th>\n",
       "      <th>min</th>\n",
       "      <th>25%</th>\n",
       "      <th>50%</th>\n",
       "      <th>75%</th>\n",
       "      <th>max</th>\n",
       "    </tr>\n",
       "  </thead>\n",
       "  <tbody>\n",
       "    <tr>\n",
       "      <th>age</th>\n",
       "      <td>87.0</td>\n",
       "      <td>19.942529</td>\n",
       "      <td>1.623636</td>\n",
       "      <td>17.0</td>\n",
       "      <td>19.0</td>\n",
       "      <td>20.0</td>\n",
       "      <td>21.0</td>\n",
       "      <td>26.0</td>\n",
       "    </tr>\n",
       "    <tr>\n",
       "      <th>study_satisfaction</th>\n",
       "      <td>87.0</td>\n",
       "      <td>3.931034</td>\n",
       "      <td>1.043174</td>\n",
       "      <td>1.0</td>\n",
       "      <td>3.0</td>\n",
       "      <td>4.0</td>\n",
       "      <td>5.0</td>\n",
       "      <td>5.0</td>\n",
       "    </tr>\n",
       "    <tr>\n",
       "      <th>academic_workload</th>\n",
       "      <td>87.0</td>\n",
       "      <td>3.885057</td>\n",
       "      <td>0.854880</td>\n",
       "      <td>2.0</td>\n",
       "      <td>3.0</td>\n",
       "      <td>4.0</td>\n",
       "      <td>4.5</td>\n",
       "      <td>5.0</td>\n",
       "    </tr>\n",
       "    <tr>\n",
       "      <th>academic_pressure</th>\n",
       "      <td>87.0</td>\n",
       "      <td>3.781609</td>\n",
       "      <td>1.125035</td>\n",
       "      <td>1.0</td>\n",
       "      <td>3.0</td>\n",
       "      <td>4.0</td>\n",
       "      <td>5.0</td>\n",
       "      <td>5.0</td>\n",
       "    </tr>\n",
       "    <tr>\n",
       "      <th>financial_concerns</th>\n",
       "      <td>87.0</td>\n",
       "      <td>3.390805</td>\n",
       "      <td>1.400634</td>\n",
       "      <td>1.0</td>\n",
       "      <td>2.5</td>\n",
       "      <td>3.0</td>\n",
       "      <td>5.0</td>\n",
       "      <td>5.0</td>\n",
       "    </tr>\n",
       "    <tr>\n",
       "      <th>social_relationships</th>\n",
       "      <td>87.0</td>\n",
       "      <td>2.781609</td>\n",
       "      <td>1.175578</td>\n",
       "      <td>1.0</td>\n",
       "      <td>2.0</td>\n",
       "      <td>3.0</td>\n",
       "      <td>4.0</td>\n",
       "      <td>5.0</td>\n",
       "    </tr>\n",
       "    <tr>\n",
       "      <th>depression</th>\n",
       "      <td>87.0</td>\n",
       "      <td>3.218391</td>\n",
       "      <td>1.367609</td>\n",
       "      <td>1.0</td>\n",
       "      <td>2.0</td>\n",
       "      <td>3.0</td>\n",
       "      <td>4.0</td>\n",
       "      <td>5.0</td>\n",
       "    </tr>\n",
       "    <tr>\n",
       "      <th>anxiety</th>\n",
       "      <td>87.0</td>\n",
       "      <td>3.218391</td>\n",
       "      <td>1.297809</td>\n",
       "      <td>1.0</td>\n",
       "      <td>2.0</td>\n",
       "      <td>3.0</td>\n",
       "      <td>4.0</td>\n",
       "      <td>5.0</td>\n",
       "    </tr>\n",
       "    <tr>\n",
       "      <th>isolation</th>\n",
       "      <td>87.0</td>\n",
       "      <td>3.241379</td>\n",
       "      <td>1.405682</td>\n",
       "      <td>1.0</td>\n",
       "      <td>2.0</td>\n",
       "      <td>3.0</td>\n",
       "      <td>4.5</td>\n",
       "      <td>5.0</td>\n",
       "    </tr>\n",
       "    <tr>\n",
       "      <th>future_insecurity</th>\n",
       "      <td>87.0</td>\n",
       "      <td>3.011494</td>\n",
       "      <td>1.385089</td>\n",
       "      <td>1.0</td>\n",
       "      <td>2.0</td>\n",
       "      <td>3.0</td>\n",
       "      <td>4.0</td>\n",
       "      <td>5.0</td>\n",
       "    </tr>\n",
       "  </tbody>\n",
       "</table>\n",
       "</div>"
      ],
      "text/plain": [
       "                      count       mean       std   min   25%   50%   75%   max\n",
       "age                    87.0  19.942529  1.623636  17.0  19.0  20.0  21.0  26.0\n",
       "study_satisfaction     87.0   3.931034  1.043174   1.0   3.0   4.0   5.0   5.0\n",
       "academic_workload      87.0   3.885057  0.854880   2.0   3.0   4.0   4.5   5.0\n",
       "academic_pressure      87.0   3.781609  1.125035   1.0   3.0   4.0   5.0   5.0\n",
       "financial_concerns     87.0   3.390805  1.400634   1.0   2.5   3.0   5.0   5.0\n",
       "social_relationships   87.0   2.781609  1.175578   1.0   2.0   3.0   4.0   5.0\n",
       "depression             87.0   3.218391  1.367609   1.0   2.0   3.0   4.0   5.0\n",
       "anxiety                87.0   3.218391  1.297809   1.0   2.0   3.0   4.0   5.0\n",
       "isolation              87.0   3.241379  1.405682   1.0   2.0   3.0   4.5   5.0\n",
       "future_insecurity      87.0   3.011494  1.385089   1.0   2.0   3.0   4.0   5.0"
      ]
     },
     "execution_count": 93,
     "metadata": {},
     "output_type": "execute_result"
    }
   ],
   "source": [
    "data.describe().T"
   ]
  },
  {
   "cell_type": "code",
   "execution_count": 94,
   "metadata": {},
   "outputs": [
    {
     "data": {
      "text/plain": [
       "gender\n",
       "Male      63\n",
       "Female    24\n",
       "Name: count, dtype: int64"
      ]
     },
     "execution_count": 94,
     "metadata": {},
     "output_type": "execute_result"
    }
   ],
   "source": [
    "data.gender.value_counts()"
   ]
  },
  {
   "cell_type": "code",
   "execution_count": 95,
   "metadata": {},
   "outputs": [
    {
     "data": {
      "image/png": "[encoded data removed]",
      "text/plain": [
       "<Figure size 700x700 with 1 Axes>"
      ]
     },
     "metadata": {},
     "output_type": "display_data"
    }
   ],
   "source": [
    "labels = ['Female', 'Male']\n",
    "sizes = [24,63]  # Example data: 60% Female, 40% Male\n",
    "colors = ['#FF0000', '#66b3ff']  # Colors for the pie chart\n",
    "explode = (0.1, 0)  # explode 1st slice (Female)\n",
    "\n",
    "# Plot\n",
    "plt.figure(figsize=(7, 7))\n",
    "plt.pie(sizes, explode=explode, labels=labels, colors=colors,\n",
    "        autopct='%1.1f%%', shadow=True, startangle=140)\n",
    "\n",
    "plt.axis('equal')  # Equal aspect ratio ensures that pie is drawn as a circle.\n",
    "plt.title('Gender Distribution')\n",
    "plt.show()"
   ]
  },
  {
   "cell_type": "code",
   "execution_count": 96,
   "metadata": {},
   "outputs": [
    {
     "data": {
      "text/plain": [
       "17"
      ]
     },
     "execution_count": 96,
     "metadata": {},
     "output_type": "execute_result"
    }
   ],
   "source": [
    "data.age.min()"
   ]
  },
  {
   "cell_type": "code",
   "execution_count": 97,
   "metadata": {},
   "outputs": [
    {
     "data": {
      "text/plain": [
       "26"
      ]
     },
     "execution_count": 97,
     "metadata": {},
     "output_type": "execute_result"
    }
   ],
   "source": [
    "data.age.max()"
   ]
  },
  {
   "cell_type": "code",
   "execution_count": 98,
   "metadata": {},
   "outputs": [
    {
     "data": {
      "image/png": "[encoded data removed]",
      "text/plain": [
       "<Figure size 600x400 with 1 Axes>"
      ]
     },
     "metadata": {},
     "output_type": "display_data"
    }
   ],
   "source": [
    "plt.figure(figsize=(6,4))\n",
    "sns.histplot(data['age'],kde=True,color='red',edgecolor=\"black\")\n",
    "plt.title(\"Distribution of Age\")\n",
    "plt.xlabel(\"age\")\n",
    "plt.show()"
   ]
  },
  {
   "cell_type": "code",
   "execution_count": 99,
   "metadata": {},
   "outputs": [
    {
     "data": {
      "text/plain": [
       "university\n",
       "PU         56\n",
       "UET        10\n",
       "COMSATS     9\n",
       "FAST        6\n",
       "UMT         2\n",
       "NUST        1\n",
       "VU          1\n",
       "UOL         1\n",
       "KUST        1\n",
       "Name: count, dtype: int64"
      ]
     },
     "execution_count": 99,
     "metadata": {},
     "output_type": "execute_result"
    }
   ],
   "source": [
    "data.university.value_counts()"
   ]
  },
  {
   "cell_type": "code",
   "execution_count": 100,
   "metadata": {},
   "outputs": [
    {
     "data": {
      "image/png": "[encoded data removed]",
      "text/plain": [
       "<Figure size 600x400 with 1 Axes>"
      ]
     },
     "metadata": {},
     "output_type": "display_data"
    }
   ],
   "source": [
    "value=data.university.value_counts()\n",
    "labels=value.index\n",
    "plt.figure(figsize=(6,4))\n",
    "colors = ['#ff9999', '#ff66b3', '#99ff99', '#ffcc99', '#c2c2f0', '#ffb3e6', '#c2f0c2']\n",
    "plt.pie(value,labels=labels,autopct='%0.0f%%',radius=1.5,colors=colors)\n",
    "plt.title(\"Distribution of Universities\",pad=40) \n",
    "plt.legend(bbox_to_anchor =(1.3, 1))\n",
    "plt.show()"
   ]
  },
  {
   "cell_type": "code",
   "execution_count": 101,
   "metadata": {},
   "outputs": [
    {
     "data": {
      "text/plain": [
       "degree_level\n",
       "Undergraduate    85\n",
       "Postgraduate      2\n",
       "Name: count, dtype: int64"
      ]
     },
     "execution_count": 101,
     "metadata": {},
     "output_type": "execute_result"
    }
   ],
   "source": [
    "data.degree_level.value_counts()"
   ]
  },
  {
   "cell_type": "code",
   "execution_count": 102,
   "metadata": {},
   "outputs": [
    {
     "data": {
      "text/html": [
       "<div>\n",
       "<style scoped>\n",
       "    .dataframe tbody tr th:only-of-type {\n",
       "        vertical-align: middle;\n",
       "    }\n",
       "\n",
       "    .dataframe tbody tr th {\n",
       "        vertical-align: top;\n",
       "    }\n",
       "\n",
       "    .dataframe thead th {\n",
       "        text-align: right;\n",
       "    }\n",
       "</style>\n",
       "<table border=\"1\" class=\"dataframe\">\n",
       "  <thead>\n",
       "    <tr style=\"text-align: right;\">\n",
       "      <th></th>\n",
       "      <th>gender</th>\n",
       "      <th>age</th>\n",
       "      <th>university</th>\n",
       "      <th>degree_level</th>\n",
       "      <th>degree_major</th>\n",
       "      <th>academic_year</th>\n",
       "      <th>cgpa</th>\n",
       "      <th>residential_status</th>\n",
       "      <th>campus_discrimination</th>\n",
       "      <th>sports_engagement</th>\n",
       "      <th>...</th>\n",
       "      <th>study_satisfaction</th>\n",
       "      <th>academic_workload</th>\n",
       "      <th>academic_pressure</th>\n",
       "      <th>financial_concerns</th>\n",
       "      <th>social_relationships</th>\n",
       "      <th>depression</th>\n",
       "      <th>anxiety</th>\n",
       "      <th>isolation</th>\n",
       "      <th>future_insecurity</th>\n",
       "      <th>stress_relief_activities</th>\n",
       "    </tr>\n",
       "  </thead>\n",
       "  <tbody>\n",
       "    <tr>\n",
       "      <th>1</th>\n",
       "      <td>Male</td>\n",
       "      <td>20</td>\n",
       "      <td>UET</td>\n",
       "      <td>Postgraduate</td>\n",
       "      <td>Computer Science</td>\n",
       "      <td>3rd year</td>\n",
       "      <td>3.0-3.5</td>\n",
       "      <td>Off-Campus</td>\n",
       "      <td>No</td>\n",
       "      <td>1-3 times</td>\n",
       "      <td>...</td>\n",
       "      <td>5</td>\n",
       "      <td>4</td>\n",
       "      <td>4</td>\n",
       "      <td>1</td>\n",
       "      <td>3</td>\n",
       "      <td>3</td>\n",
       "      <td>3</td>\n",
       "      <td>3</td>\n",
       "      <td>4</td>\n",
       "      <td>Online Entertainment</td>\n",
       "    </tr>\n",
       "    <tr>\n",
       "      <th>6</th>\n",
       "      <td>Male</td>\n",
       "      <td>26</td>\n",
       "      <td>PU</td>\n",
       "      <td>Postgraduate</td>\n",
       "      <td>Data Science</td>\n",
       "      <td>1st year</td>\n",
       "      <td>2.5-3.0</td>\n",
       "      <td>On-Campus</td>\n",
       "      <td>Yes</td>\n",
       "      <td>1-3 times</td>\n",
       "      <td>...</td>\n",
       "      <td>4</td>\n",
       "      <td>4</td>\n",
       "      <td>4</td>\n",
       "      <td>5</td>\n",
       "      <td>2</td>\n",
       "      <td>5</td>\n",
       "      <td>4</td>\n",
       "      <td>4</td>\n",
       "      <td>5</td>\n",
       "      <td>Social Connections, Online Entertainment</td>\n",
       "    </tr>\n",
       "  </tbody>\n",
       "</table>\n",
       "<p>2 rows × 21 columns</p>\n",
       "</div>"
      ],
      "text/plain": [
       "  gender  age university  degree_level      degree_major academic_year  \\\n",
       "1   Male   20        UET  Postgraduate  Computer Science      3rd year   \n",
       "6   Male   26         PU  Postgraduate      Data Science      1st year   \n",
       "\n",
       "      cgpa residential_status campus_discrimination sports_engagement  ...  \\\n",
       "1  3.0-3.5         Off-Campus                    No         1-3 times  ...   \n",
       "6  2.5-3.0          On-Campus                   Yes         1-3 times  ...   \n",
       "\n",
       "  study_satisfaction  academic_workload   academic_pressure  \\\n",
       "1                  5                   4                  4   \n",
       "6                  4                   4                  4   \n",
       "\n",
       "   financial_concerns  social_relationships  depression  anxiety  isolation  \\\n",
       "1                   1                     3           3        3          3   \n",
       "6                   5                     2           5        4          4   \n",
       "\n",
       "   future_insecurity                  stress_relief_activities  \n",
       "1                  4                      Online Entertainment  \n",
       "6                  5  Social Connections, Online Entertainment  \n",
       "\n",
       "[2 rows x 21 columns]"
      ]
     },
     "execution_count": 102,
     "metadata": {},
     "output_type": "execute_result"
    }
   ],
   "source": [
    "data[data['degree_level']=='Postgraduate']"
   ]
  },
  {
   "cell_type": "code",
   "execution_count": 103,
   "metadata": {},
   "outputs": [
    {
     "data": {
      "text/plain": [
       "degree_major\n",
       "Data Science              41\n",
       "Computer Science          34\n",
       "Information Technology     9\n",
       "Software Engineering       3\n",
       "Name: count, dtype: int64"
      ]
     },
     "execution_count": 103,
     "metadata": {},
     "output_type": "execute_result"
    }
   ],
   "source": [
    "value=data.degree_major.value_counts()\n",
    "value"
   ]
  },
  {
   "cell_type": "code",
   "execution_count": 104,
   "metadata": {},
   "outputs": [
    {
     "data": {
      "text/plain": [
       "academic_year\n",
       "1st year    34\n",
       "3rd year    28\n",
       "2nd year    15\n",
       "4th year    10\n",
       "Name: count, dtype: int64"
      ]
     },
     "execution_count": 104,
     "metadata": {},
     "output_type": "execute_result"
    }
   ],
   "source": [
    "academic_values=data.academic_year.value_counts()\n",
    "academic_values"
   ]
  },
  {
   "cell_type": "code",
   "execution_count": 105,
   "metadata": {},
   "outputs": [
    {
     "data": {
      "image/png": "[encoded data removed]",
      "text/plain": [
       "<Figure size 800x400 with 2 Axes>"
      ]
     },
     "metadata": {},
     "output_type": "display_data"
    }
   ],
   "source": [
    "fig, axs = plt.subplots(1, 2, figsize=(8,4))\n",
    "\n",
    "axs[0].bar(academic_values.index, academic_values.values, color=\"red\", width=0.3)\n",
    "axs[0].set_title(\"Distribution of academic year\",pad=30)\n",
    "axs[0].tick_params(axis='x', rotation=45)\n",
    "\n",
    "axs[1].bar(value.index, value.values, color=\"red\", width=0.3)\n",
    "axs[1].set_title(\"Distribution of degree major\",pad=30)\n",
    "axs[1].tick_params(axis='x', rotation=45)\n",
    "plt.subplots_adjust(wspace=1)\n",
    "plt.show()"
   ]
  },
  {
   "cell_type": "code",
   "execution_count": 106,
   "metadata": {},
   "outputs": [
    {
     "data": {
      "text/plain": [
       "cgpa\n",
       "3.0-3.5    27\n",
       "3.5-4.0    27\n",
       "2.5-3.0    22\n",
       "0.0-0.0     5\n",
       "2.0-2.5     4\n",
       "1.5-2.0     2\n",
       "Name: count, dtype: int64"
      ]
     },
     "execution_count": 106,
     "metadata": {},
     "output_type": "execute_result"
    }
   ],
   "source": [
    "data.cgpa.value_counts()"
   ]
  },
  {
   "cell_type": "code",
   "execution_count": 107,
   "metadata": {},
   "outputs": [
    {
     "data": {
      "text/html": [
       "<div>\n",
       "<style scoped>\n",
       "    .dataframe tbody tr th:only-of-type {\n",
       "        vertical-align: middle;\n",
       "    }\n",
       "\n",
       "    .dataframe tbody tr th {\n",
       "        vertical-align: top;\n",
       "    }\n",
       "\n",
       "    .dataframe thead th {\n",
       "        text-align: right;\n",
       "    }\n",
       "</style>\n",
       "<table border=\"1\" class=\"dataframe\">\n",
       "  <thead>\n",
       "    <tr style=\"text-align: right;\">\n",
       "      <th></th>\n",
       "      <th>gender</th>\n",
       "      <th>age</th>\n",
       "      <th>university</th>\n",
       "      <th>degree_level</th>\n",
       "      <th>degree_major</th>\n",
       "      <th>academic_year</th>\n",
       "      <th>cgpa</th>\n",
       "      <th>residential_status</th>\n",
       "      <th>campus_discrimination</th>\n",
       "      <th>sports_engagement</th>\n",
       "      <th>...</th>\n",
       "      <th>study_satisfaction</th>\n",
       "      <th>academic_workload</th>\n",
       "      <th>academic_pressure</th>\n",
       "      <th>financial_concerns</th>\n",
       "      <th>social_relationships</th>\n",
       "      <th>depression</th>\n",
       "      <th>anxiety</th>\n",
       "      <th>isolation</th>\n",
       "      <th>future_insecurity</th>\n",
       "      <th>stress_relief_activities</th>\n",
       "    </tr>\n",
       "  </thead>\n",
       "  <tbody>\n",
       "    <tr>\n",
       "      <th>27</th>\n",
       "      <td>Male</td>\n",
       "      <td>20</td>\n",
       "      <td>PU</td>\n",
       "      <td>Undergraduate</td>\n",
       "      <td>Computer Science</td>\n",
       "      <td>1st year</td>\n",
       "      <td>1.5-2.0</td>\n",
       "      <td>Off-Campus</td>\n",
       "      <td>Yes</td>\n",
       "      <td>7+ times</td>\n",
       "      <td>...</td>\n",
       "      <td>1</td>\n",
       "      <td>4</td>\n",
       "      <td>5</td>\n",
       "      <td>5</td>\n",
       "      <td>1</td>\n",
       "      <td>5</td>\n",
       "      <td>5</td>\n",
       "      <td>5</td>\n",
       "      <td>5</td>\n",
       "      <td>Online Entertainment</td>\n",
       "    </tr>\n",
       "    <tr>\n",
       "      <th>32</th>\n",
       "      <td>Male</td>\n",
       "      <td>18</td>\n",
       "      <td>PU</td>\n",
       "      <td>Undergraduate</td>\n",
       "      <td>Data Science</td>\n",
       "      <td>1st year</td>\n",
       "      <td>1.5-2.0</td>\n",
       "      <td>On-Campus</td>\n",
       "      <td>No</td>\n",
       "      <td>No Sports</td>\n",
       "      <td>...</td>\n",
       "      <td>5</td>\n",
       "      <td>4</td>\n",
       "      <td>5</td>\n",
       "      <td>2</td>\n",
       "      <td>3</td>\n",
       "      <td>4</td>\n",
       "      <td>3</td>\n",
       "      <td>4</td>\n",
       "      <td>4</td>\n",
       "      <td>Religious Activities</td>\n",
       "    </tr>\n",
       "  </tbody>\n",
       "</table>\n",
       "<p>2 rows × 21 columns</p>\n",
       "</div>"
      ],
      "text/plain": [
       "   gender  age university   degree_level      degree_major academic_year  \\\n",
       "27   Male   20         PU  Undergraduate  Computer Science      1st year   \n",
       "32   Male   18         PU  Undergraduate      Data Science      1st year   \n",
       "\n",
       "       cgpa residential_status campus_discrimination sports_engagement  ...  \\\n",
       "27  1.5-2.0         Off-Campus                   Yes          7+ times  ...   \n",
       "32  1.5-2.0          On-Campus                    No         No Sports  ...   \n",
       "\n",
       "   study_satisfaction  academic_workload   academic_pressure  \\\n",
       "27                  1                   4                  5   \n",
       "32                  5                   4                  5   \n",
       "\n",
       "    financial_concerns  social_relationships  depression  anxiety  isolation  \\\n",
       "27                   5                     1           5        5          5   \n",
       "32                   2                     3           4        3          4   \n",
       "\n",
       "    future_insecurity  stress_relief_activities  \n",
       "27                  5      Online Entertainment  \n",
       "32                  4      Religious Activities  \n",
       "\n",
       "[2 rows x 21 columns]"
      ]
     },
     "execution_count": 107,
     "metadata": {},
     "output_type": "execute_result"
    }
   ],
   "source": [
    "data[data['cgpa']=='1.5-2.0']"
   ]
  },
  {
   "cell_type": "code",
   "execution_count": 108,
   "metadata": {},
   "outputs": [
    {
     "data": {
      "text/plain": [
       "residential_status\n",
       "Off-Campus    65\n",
       "On-Campus     22\n",
       "Name: count, dtype: int64"
      ]
     },
     "execution_count": 108,
     "metadata": {},
     "output_type": "execute_result"
    }
   ],
   "source": [
    "data.residential_status.value_counts()"
   ]
  },
  {
   "cell_type": "code",
   "execution_count": 109,
   "metadata": {},
   "outputs": [
    {
     "data": {
      "text/plain": [
       "campus_discrimination\n",
       "No     65\n",
       "Yes    22\n",
       "Name: count, dtype: int64"
      ]
     },
     "execution_count": 109,
     "metadata": {},
     "output_type": "execute_result"
    }
   ],
   "source": [
    "data.campus_discrimination.value_counts()"
   ]
  },
  {
   "cell_type": "code",
   "execution_count": 110,
   "metadata": {},
   "outputs": [
    {
     "data": {
      "text/plain": [
       "sports_engagement\n",
       "No Sports    42\n",
       "1-3 times    24\n",
       "4-6 times    11\n",
       "7+ times     10\n",
       "Name: count, dtype: int64"
      ]
     },
     "execution_count": 110,
     "metadata": {},
     "output_type": "execute_result"
    }
   ],
   "source": [
    "data.sports_engagement.value_counts()"
   ]
  },
  {
   "cell_type": "code",
   "execution_count": 111,
   "metadata": {},
   "outputs": [
    {
     "data": {
      "text/plain": [
       "study_satisfaction\n",
       "5    32\n",
       "4    26\n",
       "3    23\n",
       "1     3\n",
       "2     3\n",
       "Name: count, dtype: int64"
      ]
     },
     "execution_count": 111,
     "metadata": {},
     "output_type": "execute_result"
    }
   ],
   "source": [
    "data.study_satisfaction.value_counts()"
   ]
  },
  {
   "cell_type": "code",
   "execution_count": 112,
   "metadata": {},
   "outputs": [
    {
     "data": {
      "text/plain": [
       "array([5, 3, 4, 1, 2], dtype=int64)"
      ]
     },
     "execution_count": 112,
     "metadata": {},
     "output_type": "execute_result"
    }
   ],
   "source": [
    "data.study_satisfaction.unique()"
   ]
  },
  {
   "cell_type": "code",
   "execution_count": 113,
   "metadata": {},
   "outputs": [
    {
     "data": {
      "text/plain": [
       "stress_relief_activities\n",
       "Religious Activities                                                                                             10\n",
       "Online Entertainment                                                                                              9\n",
       "Religious Activities, Social Connections, Online Entertainment                                                    6\n",
       "Sleep                                                                                                             6\n",
       "Outdoor Activities                                                                                                5\n",
       "Sports and Fitness                                                                                                4\n",
       "Religious Activities, Social Connections                                                                          4\n",
       "Social Connections                                                                                                3\n",
       "Religious Activities, Online Entertainment                                                                        2\n",
       "Religious Activities, Social Connections, Online Entertainment, Sleep                                             2\n",
       "Religious Activities, Sports and Fitness, Creative Outlets, Online Entertainment                                  2\n",
       "Religious Activities, Sports and Fitness, Social Connections                                                      2\n",
       "Creative Outlets                                                                                                  2\n",
       "Religious Activities, Sports and Fitness, Online Entertainment                                                    2\n",
       "Social Connections, Sleep                                                                                         2\n",
       "Religious Activities, Online Entertainment, Outdoor Activities                                                    2\n",
       "Religious Activities, Sports and Fitness, Social Connections, Online Entertainment, Outdoor Activities            2\n",
       "Religious Activities, Sports and Fitness, Social Connections, Online Entertainment, Outdoor Activities, Sleep     2\n",
       "Religious Activities, Sports and Fitness, Sleep                                                                   1\n",
       "Religious Activities, Sports and Fitness, Social Connections, Sleep                                               1\n",
       "Online Entertainment, Outdoor Activities, Sleep                                                                   1\n",
       "Religious Activities, Sports and Fitness                                                                          1\n",
       "Creative Outlets, Social Connections, Online Entertainment                                                        1\n",
       "Online Entertainment, Sleep                                                                                       1\n",
       "Social Connections, Outdoor Activities                                                                            1\n",
       "Religious Activities, Social Connections, Sleep                                                                   1\n",
       "Creative Outlets, Social Connections, Online Entertainment, Outdoor Activities                                    1\n",
       "Religious Activities, Sports and Fitness, Outdoor Activities                                                      1\n",
       "Social Connections, Online Entertainment, Sleep                                                                   1\n",
       "Sports and Fitness, Creative Outlets, Social Connections, Outdoor Activities, Sleep                               1\n",
       "Religious Activities, Outdoor Activities                                                                          1\n",
       "Sports and Fitness, Creative Outlets, Online Entertainment, Outdoor Activities                                    1\n",
       "Religious Activities, Creative Outlets                                                                            1\n",
       "Religious Activities, Creative Outlets, Social Connections                                                        1\n",
       "Nothing                                                                                                           1\n",
       "Religious Activities, Social Connections, Online Entertainment, Outdoor Activities                                1\n",
       "Social Connections, Online Entertainment                                                                          1\n",
       "Religious Activities, Sleep                                                                                       1\n",
       "Name: count, dtype: int64"
      ]
     },
     "execution_count": 113,
     "metadata": {},
     "output_type": "execute_result"
    }
   ],
   "source": [
    "data.stress_relief_activities.value_counts()"
   ]
  },
  {
   "cell_type": "code",
   "execution_count": 114,
   "metadata": {},
   "outputs": [
    {
     "data": {
      "image/png": "[encoded data removed]",
      "text/plain": [
       "<Figure size 800x600 with 1 Axes>"
      ]
     },
     "metadata": {},
     "output_type": "display_data"
    }
   ],
   "source": [
    "plt.figure(figsize=(8, 6))\n",
    "sns.boxplot(x='sports_engagement', y='depression', data=data, palette=\"Set1\")\n",
    "plt.title('Depression Levels by Sports Engagement')\n",
    "plt.xlabel('Sports Engagement')\n",
    "plt.ylabel('Depression Level')\n",
    "plt.xticks(rotation=45)\n",
    "plt.show()"
   ]
  },
  {
   "cell_type": "code",
   "execution_count": 115,
   "metadata": {},
   "outputs": [
    {
     "data": {
      "text/html": [
       "<div>\n",
       "<style scoped>\n",
       "    .dataframe tbody tr th:only-of-type {\n",
       "        vertical-align: middle;\n",
       "    }\n",
       "\n",
       "    .dataframe tbody tr th {\n",
       "        vertical-align: top;\n",
       "    }\n",
       "\n",
       "    .dataframe thead th {\n",
       "        text-align: right;\n",
       "    }\n",
       "</style>\n",
       "<table border=\"1\" class=\"dataframe\">\n",
       "  <thead>\n",
       "    <tr style=\"text-align: right;\">\n",
       "      <th></th>\n",
       "      <th>study_satisfaction</th>\n",
       "      <th>academic_pressure</th>\n",
       "      <th>financial_concerns</th>\n",
       "      <th>social_relationships</th>\n",
       "      <th>depression</th>\n",
       "      <th>anxiety</th>\n",
       "      <th>isolation</th>\n",
       "      <th>future_insecurity</th>\n",
       "    </tr>\n",
       "  </thead>\n",
       "  <tbody>\n",
       "    <tr>\n",
       "      <th>study_satisfaction</th>\n",
       "      <td>1.000000</td>\n",
       "      <td>-0.102153</td>\n",
       "      <td>-0.092755</td>\n",
       "      <td>0.158249</td>\n",
       "      <td>-0.258286</td>\n",
       "      <td>-0.237822</td>\n",
       "      <td>-0.297775</td>\n",
       "      <td>-0.369635</td>\n",
       "    </tr>\n",
       "    <tr>\n",
       "      <th>academic_pressure</th>\n",
       "      <td>-0.102153</td>\n",
       "      <td>1.000000</td>\n",
       "      <td>0.054793</td>\n",
       "      <td>0.042646</td>\n",
       "      <td>0.371443</td>\n",
       "      <td>0.303817</td>\n",
       "      <td>0.246950</td>\n",
       "      <td>0.292649</td>\n",
       "    </tr>\n",
       "    <tr>\n",
       "      <th>financial_concerns</th>\n",
       "      <td>-0.092755</td>\n",
       "      <td>0.054793</td>\n",
       "      <td>1.000000</td>\n",
       "      <td>-0.244165</td>\n",
       "      <td>0.379851</td>\n",
       "      <td>0.278741</td>\n",
       "      <td>0.252734</td>\n",
       "      <td>0.141508</td>\n",
       "    </tr>\n",
       "    <tr>\n",
       "      <th>social_relationships</th>\n",
       "      <td>0.158249</td>\n",
       "      <td>0.042646</td>\n",
       "      <td>-0.244165</td>\n",
       "      <td>1.000000</td>\n",
       "      <td>-0.295452</td>\n",
       "      <td>-0.349449</td>\n",
       "      <td>-0.558803</td>\n",
       "      <td>-0.234101</td>\n",
       "    </tr>\n",
       "    <tr>\n",
       "      <th>depression</th>\n",
       "      <td>-0.258286</td>\n",
       "      <td>0.371443</td>\n",
       "      <td>0.379851</td>\n",
       "      <td>-0.295452</td>\n",
       "      <td>1.000000</td>\n",
       "      <td>0.844141</td>\n",
       "      <td>0.710185</td>\n",
       "      <td>0.465185</td>\n",
       "    </tr>\n",
       "    <tr>\n",
       "      <th>anxiety</th>\n",
       "      <td>-0.237822</td>\n",
       "      <td>0.303817</td>\n",
       "      <td>0.278741</td>\n",
       "      <td>-0.349449</td>\n",
       "      <td>0.844141</td>\n",
       "      <td>1.000000</td>\n",
       "      <td>0.671894</td>\n",
       "      <td>0.444924</td>\n",
       "    </tr>\n",
       "    <tr>\n",
       "      <th>isolation</th>\n",
       "      <td>-0.297775</td>\n",
       "      <td>0.246950</td>\n",
       "      <td>0.252734</td>\n",
       "      <td>-0.558803</td>\n",
       "      <td>0.710185</td>\n",
       "      <td>0.671894</td>\n",
       "      <td>1.000000</td>\n",
       "      <td>0.321059</td>\n",
       "    </tr>\n",
       "    <tr>\n",
       "      <th>future_insecurity</th>\n",
       "      <td>-0.369635</td>\n",
       "      <td>0.292649</td>\n",
       "      <td>0.141508</td>\n",
       "      <td>-0.234101</td>\n",
       "      <td>0.465185</td>\n",
       "      <td>0.444924</td>\n",
       "      <td>0.321059</td>\n",
       "      <td>1.000000</td>\n",
       "    </tr>\n",
       "  </tbody>\n",
       "</table>\n",
       "</div>"
      ],
      "text/plain": [
       "                      study_satisfaction  academic_pressure  \\\n",
       "study_satisfaction              1.000000          -0.102153   \n",
       "academic_pressure              -0.102153           1.000000   \n",
       "financial_concerns             -0.092755           0.054793   \n",
       "social_relationships            0.158249           0.042646   \n",
       "depression                     -0.258286           0.371443   \n",
       "anxiety                        -0.237822           0.303817   \n",
       "isolation                      -0.297775           0.246950   \n",
       "future_insecurity              -0.369635           0.292649   \n",
       "\n",
       "                      financial_concerns  social_relationships  depression  \\\n",
       "study_satisfaction             -0.092755              0.158249   -0.258286   \n",
       "academic_pressure               0.054793              0.042646    0.371443   \n",
       "financial_concerns              1.000000             -0.244165    0.379851   \n",
       "social_relationships           -0.244165              1.000000   -0.295452   \n",
       "depression                      0.379851             -0.295452    1.000000   \n",
       "anxiety                         0.278741             -0.349449    0.844141   \n",
       "isolation                       0.252734             -0.558803    0.710185   \n",
       "future_insecurity               0.141508             -0.234101    0.465185   \n",
       "\n",
       "                       anxiety  isolation  future_insecurity  \n",
       "study_satisfaction   -0.237822  -0.297775          -0.369635  \n",
       "academic_pressure     0.303817   0.246950           0.292649  \n",
       "financial_concerns    0.278741   0.252734           0.141508  \n",
       "social_relationships -0.349449  -0.558803          -0.234101  \n",
       "depression            0.844141   0.710185           0.465185  \n",
       "anxiety               1.000000   0.671894           0.444924  \n",
       "isolation             0.671894   1.000000           0.321059  \n",
       "future_insecurity     0.444924   0.321059           1.000000  "
      ]
     },
     "execution_count": 115,
     "metadata": {},
     "output_type": "execute_result"
    }
   ],
   "source": [
    "data_corr=data[['study_satisfaction','academic_pressure','financial_concerns','social_relationships','depression','anxiety','isolation','future_insecurity']].corr(numeric_only=True)\n",
    "data_corr"
   ]
  },
  {
   "cell_type": "code",
   "execution_count": 116,
   "metadata": {},
   "outputs": [
    {
     "data": {
      "image/png": "[encoded data removed]",
      "text/plain": [
       "<Figure size 600x400 with 2 Axes>"
      ]
     },
     "metadata": {},
     "output_type": "display_data"
    }
   ],
   "source": [
    "plt.figure(figsize=(6, 4))\n",
    "sns.heatmap(data_corr)\n",
    "plt.title('Correlation Matrix')\n",
    "plt.show()"
   ]
  },
  {
   "cell_type": "code",
   "execution_count": 117,
   "metadata": {},
   "outputs": [],
   "source": [
    "from sklearn.model_selection import train_test_split\n",
    "from sklearn.tree import DecisionTreeClassifier\n",
    "from sklearn.metrics import accuracy_score\n",
    "from sklearn import datasets\n",
    "\n",
    "# Load the Iris dataset\n",
    "iris = datasets.load_iris()\n",
    "X = iris.data  # Features\n",
    "y = iris.target  # Labels\n",
    "\n",
    "# Split the dataset into training and testing sets\n",
    "X_train, X_test, y_train, y_test = train_test_split(X, y, test_size=0.3, random_state=42)"
   ]
  },
  {
   "cell_type": "code",
   "execution_count": 118,
   "metadata": {},
   "outputs": [
    {
     "name": "stdout",
     "output_type": "stream",
     "text": [
      "Accuracy: 100.00%\n"
     ]
    }
   ],
   "source": [
    "\n",
    "\n",
    "# Create a Decision Tree classifier\n",
    "clf = DecisionTreeClassifier()\n",
    "\n",
    "# Train the classifier\n",
    "clf.fit(X_train, y_train)\n",
    "\n",
    "# Make predictions\n",
    "y_pred = clf.predict(X_test)\n",
    "\n",
    "# Calculate accuracy\n",
    "accuracy = accuracy_score(y_test, y_pred)\n",
    "\n",
    "print(f\"Accuracy: {accuracy * 100:.2f}%\")"
   ]
  },
  {
   "cell_type": "code",
   "execution_count": 119,
   "metadata": {},
   "outputs": [
    {
     "name": "stdout",
     "output_type": "stream",
     "text": [
      "Logistic Regression Accuracy: 100.00%\n"
     ]
    }
   ],
   "source": [
    "from sklearn.linear_model import LogisticRegression\n",
    "\n",
    "# Initialize the model\n",
    "model = LogisticRegression()\n",
    "\n",
    "# Train the model\n",
    "model.fit(X_train, y_train)\n",
    "\n",
    "# Predict and evaluate\n",
    "y_pred = model.predict(X_test)\n",
    "accuracy = accuracy_score(y_test, y_pred)\n",
    "print(f\"Logistic Regression Accuracy: {accuracy * 100:.2f}%\")"
   ]
  },
  {
   "cell_type": "code",
   "execution_count": 120,
   "metadata": {},
   "outputs": [
    {
     "name": "stdout",
     "output_type": "stream",
     "text": [
      "Random Forest Accuracy: 100.00%\n"
     ]
    }
   ],
   "source": [
    "from sklearn.ensemble import RandomForestClassifier\n",
    "\n",
    "# Initialize the model\n",
    "rf = RandomForestClassifier(n_estimators=100)\n",
    "\n",
    "# Train the model\n",
    "rf.fit(X_train, y_train)\n",
    "\n",
    "# Predict and evaluate\n",
    "y_pred = rf.predict(X_test)\n",
    "accuracy = accuracy_score(y_test, y_pred)\n",
    "print(f\"Random Forest Accuracy: {accuracy * 100:.2f}%\")"
   ]
  },
  {
   "cell_type": "code",
   "execution_count": 121,
   "metadata": {},
   "outputs": [
    {
     "name": "stdout",
     "output_type": "stream",
     "text": [
      "KNN Accuracy: 100.00%\n"
     ]
    }
   ],
   "source": [
    "from sklearn.neighbors import KNeighborsClassifier\n",
    "knn = KNeighborsClassifier(n_neighbors=3)\n",
    "\n",
    "\n",
    "# Train the model\n",
    "knn.fit(X_train, y_train)\n",
    "\n",
    "# Predict and evaluate\n",
    "y_pred = knn.predict(X_test)\n",
    "accuracy = accuracy_score(y_test, y_pred)\n",
    "print(f\"KNN Accuracy: {accuracy * 100:.2f}%\")"
   ]
  }
 ],
 "metadata": {
  "kernelspec": {
   "display_name": "Python 3",
   "language": "python",
   "name": "python3"
  },
  "language_info": {
   "codemirror_mode": {
    "name": "ipython",
    "version": 3
   },
   "file_extension": ".py",
   "mimetype": "text/x-python",
   "name": "python",
   "nbconvert_exporter": "python",
   "pygments_lexer": "ipython3",
   "version": "3.12.0"
  }
 },
 "nbformat": 4,
 "nbformat_minor": 2
}
